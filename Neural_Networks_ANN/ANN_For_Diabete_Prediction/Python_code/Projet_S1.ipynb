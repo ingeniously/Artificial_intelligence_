{
 "cells": [
  {
   "cell_type": "markdown",
   "id": "a97c8c94",
   "metadata": {},
   "source": []
  },
  {
   "cell_type": "markdown",
   "id": "ba801777",
   "metadata": {},
   "source": [
    "## Import the libraries"
   ]
  },
  {
   "cell_type": "code",
   "execution_count": 2,
   "id": "9c6b2a7a",
   "metadata": {},
   "outputs": [],
   "source": [
    "import numpy as np\n",
    "import matplotlib.pyplot as plt\n",
    "import pandas as pd\n"
   ]
  },
  {
   "cell_type": "markdown",
   "id": "5b5f696a",
   "metadata": {},
   "source": [
    "## Importing the data set"
   ]
  },
  {
   "cell_type": "code",
   "execution_count": 19,
   "id": "0177ceae",
   "metadata": {},
   "outputs": [],
   "source": [
    "np.set_printoptions(precision=2)"
   ]
  },
  {
   "cell_type": "code",
   "execution_count": 20,
   "id": "88ad2367",
   "metadata": {},
   "outputs": [],
   "source": [
    "df = pd.read_csv(\"C:/Users/user/Python/Jupiter_notebooks/diabetes.csv\")"
   ]
  },
  {
   "cell_type": "code",
   "execution_count": 21,
   "id": "eecc6ab8",
   "metadata": {},
   "outputs": [],
   "source": [
    "df = df.dropna(how=\"any\", axis=0) "
   ]
  },
  {
   "cell_type": "code",
   "execution_count": 22,
   "id": "dbce5ae2",
   "metadata": {},
   "outputs": [
    {
     "data": {
      "text/html": [
       "<div>\n",
       "<style scoped>\n",
       "    .dataframe tbody tr th:only-of-type {\n",
       "        vertical-align: middle;\n",
       "    }\n",
       "\n",
       "    .dataframe tbody tr th {\n",
       "        vertical-align: top;\n",
       "    }\n",
       "\n",
       "    .dataframe thead th {\n",
       "        text-align: right;\n",
       "    }\n",
       "</style>\n",
       "<table border=\"1\" class=\"dataframe\">\n",
       "  <thead>\n",
       "    <tr style=\"text-align: right;\">\n",
       "      <th></th>\n",
       "      <th>Pregnancies</th>\n",
       "      <th>Glucose</th>\n",
       "      <th>BloodPressure</th>\n",
       "      <th>SkinThickness</th>\n",
       "      <th>Insulin</th>\n",
       "      <th>BMI</th>\n",
       "      <th>DiabetesPedigreeFunction</th>\n",
       "      <th>Age</th>\n",
       "      <th>Outcome</th>\n",
       "    </tr>\n",
       "  </thead>\n",
       "  <tbody>\n",
       "    <tr>\n",
       "      <th>0</th>\n",
       "      <td>6</td>\n",
       "      <td>148</td>\n",
       "      <td>72</td>\n",
       "      <td>35</td>\n",
       "      <td>0</td>\n",
       "      <td>33.6</td>\n",
       "      <td>0.627</td>\n",
       "      <td>50</td>\n",
       "      <td>1</td>\n",
       "    </tr>\n",
       "    <tr>\n",
       "      <th>1</th>\n",
       "      <td>1</td>\n",
       "      <td>85</td>\n",
       "      <td>66</td>\n",
       "      <td>29</td>\n",
       "      <td>0</td>\n",
       "      <td>26.6</td>\n",
       "      <td>0.351</td>\n",
       "      <td>31</td>\n",
       "      <td>0</td>\n",
       "    </tr>\n",
       "    <tr>\n",
       "      <th>2</th>\n",
       "      <td>8</td>\n",
       "      <td>183</td>\n",
       "      <td>64</td>\n",
       "      <td>0</td>\n",
       "      <td>0</td>\n",
       "      <td>23.3</td>\n",
       "      <td>0.672</td>\n",
       "      <td>32</td>\n",
       "      <td>1</td>\n",
       "    </tr>\n",
       "    <tr>\n",
       "      <th>3</th>\n",
       "      <td>1</td>\n",
       "      <td>89</td>\n",
       "      <td>66</td>\n",
       "      <td>23</td>\n",
       "      <td>94</td>\n",
       "      <td>28.1</td>\n",
       "      <td>0.167</td>\n",
       "      <td>21</td>\n",
       "      <td>0</td>\n",
       "    </tr>\n",
       "    <tr>\n",
       "      <th>4</th>\n",
       "      <td>0</td>\n",
       "      <td>137</td>\n",
       "      <td>40</td>\n",
       "      <td>35</td>\n",
       "      <td>168</td>\n",
       "      <td>43.1</td>\n",
       "      <td>2.288</td>\n",
       "      <td>33</td>\n",
       "      <td>1</td>\n",
       "    </tr>\n",
       "  </tbody>\n",
       "</table>\n",
       "</div>"
      ],
      "text/plain": [
       "   Pregnancies  Glucose  BloodPressure  SkinThickness  Insulin   BMI  \\\n",
       "0            6      148             72             35        0  33.6   \n",
       "1            1       85             66             29        0  26.6   \n",
       "2            8      183             64              0        0  23.3   \n",
       "3            1       89             66             23       94  28.1   \n",
       "4            0      137             40             35      168  43.1   \n",
       "\n",
       "   DiabetesPedigreeFunction  Age  Outcome  \n",
       "0                     0.627   50        1  \n",
       "1                     0.351   31        0  \n",
       "2                     0.672   32        1  \n",
       "3                     0.167   21        0  \n",
       "4                     2.288   33        1  "
      ]
     },
     "execution_count": 22,
     "metadata": {},
     "output_type": "execute_result"
    }
   ],
   "source": [
    "df.head()"
   ]
  },
  {
   "cell_type": "code",
   "execution_count": 23,
   "id": "c5a88f4e",
   "metadata": {},
   "outputs": [
    {
     "data": {
      "text/html": [
       "<div>\n",
       "<style scoped>\n",
       "    .dataframe tbody tr th:only-of-type {\n",
       "        vertical-align: middle;\n",
       "    }\n",
       "\n",
       "    .dataframe tbody tr th {\n",
       "        vertical-align: top;\n",
       "    }\n",
       "\n",
       "    .dataframe thead th {\n",
       "        text-align: right;\n",
       "    }\n",
       "</style>\n",
       "<table border=\"1\" class=\"dataframe\">\n",
       "  <thead>\n",
       "    <tr style=\"text-align: right;\">\n",
       "      <th></th>\n",
       "      <th>Pregnancies</th>\n",
       "      <th>Glucose</th>\n",
       "      <th>BloodPressure</th>\n",
       "      <th>SkinThickness</th>\n",
       "      <th>Insulin</th>\n",
       "      <th>BMI</th>\n",
       "      <th>DiabetesPedigreeFunction</th>\n",
       "      <th>Age</th>\n",
       "      <th>Outcome</th>\n",
       "    </tr>\n",
       "  </thead>\n",
       "  <tbody>\n",
       "    <tr>\n",
       "      <th>count</th>\n",
       "      <td>768.000000</td>\n",
       "      <td>768.000000</td>\n",
       "      <td>768.000000</td>\n",
       "      <td>768.000000</td>\n",
       "      <td>768.000000</td>\n",
       "      <td>768.000000</td>\n",
       "      <td>768.000000</td>\n",
       "      <td>768.000000</td>\n",
       "      <td>768.000000</td>\n",
       "    </tr>\n",
       "    <tr>\n",
       "      <th>mean</th>\n",
       "      <td>3.845052</td>\n",
       "      <td>120.894531</td>\n",
       "      <td>69.105469</td>\n",
       "      <td>20.536458</td>\n",
       "      <td>79.799479</td>\n",
       "      <td>31.992578</td>\n",
       "      <td>0.471876</td>\n",
       "      <td>33.240885</td>\n",
       "      <td>0.348958</td>\n",
       "    </tr>\n",
       "    <tr>\n",
       "      <th>std</th>\n",
       "      <td>3.369578</td>\n",
       "      <td>31.972618</td>\n",
       "      <td>19.355807</td>\n",
       "      <td>15.952218</td>\n",
       "      <td>115.244002</td>\n",
       "      <td>7.884160</td>\n",
       "      <td>0.331329</td>\n",
       "      <td>11.760232</td>\n",
       "      <td>0.476951</td>\n",
       "    </tr>\n",
       "    <tr>\n",
       "      <th>min</th>\n",
       "      <td>0.000000</td>\n",
       "      <td>0.000000</td>\n",
       "      <td>0.000000</td>\n",
       "      <td>0.000000</td>\n",
       "      <td>0.000000</td>\n",
       "      <td>0.000000</td>\n",
       "      <td>0.078000</td>\n",
       "      <td>21.000000</td>\n",
       "      <td>0.000000</td>\n",
       "    </tr>\n",
       "    <tr>\n",
       "      <th>25%</th>\n",
       "      <td>1.000000</td>\n",
       "      <td>99.000000</td>\n",
       "      <td>62.000000</td>\n",
       "      <td>0.000000</td>\n",
       "      <td>0.000000</td>\n",
       "      <td>27.300000</td>\n",
       "      <td>0.243750</td>\n",
       "      <td>24.000000</td>\n",
       "      <td>0.000000</td>\n",
       "    </tr>\n",
       "    <tr>\n",
       "      <th>50%</th>\n",
       "      <td>3.000000</td>\n",
       "      <td>117.000000</td>\n",
       "      <td>72.000000</td>\n",
       "      <td>23.000000</td>\n",
       "      <td>30.500000</td>\n",
       "      <td>32.000000</td>\n",
       "      <td>0.372500</td>\n",
       "      <td>29.000000</td>\n",
       "      <td>0.000000</td>\n",
       "    </tr>\n",
       "    <tr>\n",
       "      <th>75%</th>\n",
       "      <td>6.000000</td>\n",
       "      <td>140.250000</td>\n",
       "      <td>80.000000</td>\n",
       "      <td>32.000000</td>\n",
       "      <td>127.250000</td>\n",
       "      <td>36.600000</td>\n",
       "      <td>0.626250</td>\n",
       "      <td>41.000000</td>\n",
       "      <td>1.000000</td>\n",
       "    </tr>\n",
       "    <tr>\n",
       "      <th>max</th>\n",
       "      <td>17.000000</td>\n",
       "      <td>199.000000</td>\n",
       "      <td>122.000000</td>\n",
       "      <td>99.000000</td>\n",
       "      <td>846.000000</td>\n",
       "      <td>67.100000</td>\n",
       "      <td>2.420000</td>\n",
       "      <td>81.000000</td>\n",
       "      <td>1.000000</td>\n",
       "    </tr>\n",
       "  </tbody>\n",
       "</table>\n",
       "</div>"
      ],
      "text/plain": [
       "       Pregnancies     Glucose  BloodPressure  SkinThickness     Insulin  \\\n",
       "count   768.000000  768.000000     768.000000     768.000000  768.000000   \n",
       "mean      3.845052  120.894531      69.105469      20.536458   79.799479   \n",
       "std       3.369578   31.972618      19.355807      15.952218  115.244002   \n",
       "min       0.000000    0.000000       0.000000       0.000000    0.000000   \n",
       "25%       1.000000   99.000000      62.000000       0.000000    0.000000   \n",
       "50%       3.000000  117.000000      72.000000      23.000000   30.500000   \n",
       "75%       6.000000  140.250000      80.000000      32.000000  127.250000   \n",
       "max      17.000000  199.000000     122.000000      99.000000  846.000000   \n",
       "\n",
       "              BMI  DiabetesPedigreeFunction         Age     Outcome  \n",
       "count  768.000000                768.000000  768.000000  768.000000  \n",
       "mean    31.992578                  0.471876   33.240885    0.348958  \n",
       "std      7.884160                  0.331329   11.760232    0.476951  \n",
       "min      0.000000                  0.078000   21.000000    0.000000  \n",
       "25%     27.300000                  0.243750   24.000000    0.000000  \n",
       "50%     32.000000                  0.372500   29.000000    0.000000  \n",
       "75%     36.600000                  0.626250   41.000000    1.000000  \n",
       "max     67.100000                  2.420000   81.000000    1.000000  "
      ]
     },
     "execution_count": 23,
     "metadata": {},
     "output_type": "execute_result"
    }
   ],
   "source": [
    "df.describe()"
   ]
  },
  {
   "cell_type": "code",
   "execution_count": 24,
   "id": "2d6b9c50",
   "metadata": {},
   "outputs": [
    {
     "name": "stdout",
     "output_type": "stream",
     "text": [
      "<class 'pandas.core.frame.DataFrame'>\n",
      "RangeIndex: 768 entries, 0 to 767\n",
      "Data columns (total 9 columns):\n",
      " #   Column                    Non-Null Count  Dtype  \n",
      "---  ------                    --------------  -----  \n",
      " 0   Pregnancies               768 non-null    int64  \n",
      " 1   Glucose                   768 non-null    int64  \n",
      " 2   BloodPressure             768 non-null    int64  \n",
      " 3   SkinThickness             768 non-null    int64  \n",
      " 4   Insulin                   768 non-null    int64  \n",
      " 5   BMI                       768 non-null    float64\n",
      " 6   DiabetesPedigreeFunction  768 non-null    float64\n",
      " 7   Age                       768 non-null    int64  \n",
      " 8   Outcome                   768 non-null    int64  \n",
      "dtypes: float64(2), int64(7)\n",
      "memory usage: 54.1 KB\n"
     ]
    }
   ],
   "source": [
    "df.info()"
   ]
  },
  {
   "cell_type": "markdown",
   "id": "7b14a724",
   "metadata": {},
   "source": [
    "## Check correlation with heatmap graph"
   ]
  },
  {
   "cell_type": "code",
   "execution_count": 25,
   "id": "c01a89aa",
   "metadata": {},
   "outputs": [
    {
     "data": {
      "text/plain": [
       "<AxesSubplot:>"
      ]
     },
     "execution_count": 25,
     "metadata": {},
     "output_type": "execute_result"
    },
    {
     "data": {
      "image/png": "[encoded data removed]",
      "text/plain": [
       "<Figure size 640x480 with 2 Axes>"
      ]
     },
     "metadata": {},
     "output_type": "display_data"
    }
   ],
   "source": [
    "import seaborn as sns\n",
    "corr = df.corr()\n",
    "sns.heatmap(corr, \n",
    "xticklabels=corr.columns.values,\n",
    "yticklabels=corr.columns.values)"
   ]
  },
  {
   "cell_type": "markdown",
   "id": "d10a0abf",
   "metadata": {},
   "source": [
    "## Splitting the dataset into training set and test set"
   ]
  },
  {
   "cell_type": "code",
   "execution_count": 10,
   "id": "02667846",
   "metadata": {},
   "outputs": [],
   "source": [
    "labels=df['Outcome']\n",
    "features = df.iloc[:,1:8]\n",
    "from sklearn.model_selection import train_test_split\n",
    "X=features\n",
    "y=np.ravel(labels)\n",
    "X_train, X_test, y_train, y_test = train_test_split(X, y, test_size=0.33, random_state=42) "
   ]
  },
  {
   "cell_type": "markdown",
   "id": "fc7046dc",
   "metadata": {},
   "source": [
    "## Transform data in the same scale"
   ]
  },
  {
   "cell_type": "code",
   "execution_count": 11,
   "id": "e0c5d47f",
   "metadata": {},
   "outputs": [],
   "source": [
    "from sklearn.preprocessing import StandardScaler\n",
    "scaler = StandardScaler().fit(X_train)\n",
    "X_train = scaler.transform(X_train)\n",
    "X_test = scaler.transform(X_test)"
   ]
  },
  {
   "cell_type": "markdown",
   "id": "2f1dd97f",
   "metadata": {},
   "source": [
    "## The Keras sequential model"
   ]
  },
  {
   "cell_type": "markdown",
   "id": "6092ac47",
   "metadata": {},
   "source": [
    "##### The code below created a Keras sequential model, which means building up the layers in the neural network by adding them one at a time"
   ]
  },
  {
   "cell_type": "code",
   "execution_count": 59,
   "id": "944a4704",
   "metadata": {},
   "outputs": [],
   "source": [
    "from keras.models import Sequential\n",
    "from keras.layers import Dense\n",
    "model = Sequential()\n",
    "model.add(Dense(16, activation='relu', input_shape=(7,)))\n",
    "model.add(Dense(32, activation='relu'))\n",
    "model.add(Dense(1, activation='sigmoid'))"
   ]
  },
  {
   "cell_type": "code",
   "execution_count": 60,
   "id": "5ddd165d",
   "metadata": {},
   "outputs": [
    {
     "name": "stdout",
     "output_type": "stream",
     "text": [
      "Epoch 1/30\n",
      "344/344 [==============================] - 6s 16ms/step - loss: 0.5703 - accuracy: 0.7064 - val_loss: 0.5499 - val_accuracy: 0.7000\n",
      "Epoch 2/30\n",
      "344/344 [==============================] - 2s 5ms/step - loss: 0.4947 - accuracy: 0.7703 - val_loss: 0.5187 - val_accuracy: 0.7353\n",
      "Epoch 3/30\n",
      "344/344 [==============================] - 2s 5ms/step - loss: 0.4654 - accuracy: 0.7820 - val_loss: 0.5022 - val_accuracy: 0.7471\n",
      "Epoch 4/30\n",
      "344/344 [==============================] - 2s 5ms/step - loss: 0.4494 - accuracy: 0.7878 - val_loss: 0.4922 - val_accuracy: 0.7529\n",
      "Epoch 5/30\n",
      "344/344 [==============================] - 2s 4ms/step - loss: 0.4322 - accuracy: 0.7965 - val_loss: 0.4980 - val_accuracy: 0.7529\n",
      "Epoch 6/30\n",
      "344/344 [==============================] - 2s 4ms/step - loss: 0.4227 - accuracy: 0.7791 - val_loss: 0.4905 - val_accuracy: 0.7588\n",
      "Epoch 7/30\n",
      "344/344 [==============================] - 1s 4ms/step - loss: 0.4134 - accuracy: 0.7994 - val_loss: 0.4913 - val_accuracy: 0.7647\n",
      "Epoch 8/30\n",
      "344/344 [==============================] - 1s 4ms/step - loss: 0.4096 - accuracy: 0.7936 - val_loss: 0.4876 - val_accuracy: 0.7647\n",
      "Epoch 9/30\n",
      "344/344 [==============================] - 1s 4ms/step - loss: 0.4039 - accuracy: 0.8140 - val_loss: 0.4903 - val_accuracy: 0.7588\n",
      "Epoch 10/30\n",
      "344/344 [==============================] - 2s 4ms/step - loss: 0.3981 - accuracy: 0.8052 - val_loss: 0.4930 - val_accuracy: 0.7706\n",
      "Epoch 11/30\n",
      "344/344 [==============================] - 2s 5ms/step - loss: 0.3950 - accuracy: 0.8052 - val_loss: 0.5044 - val_accuracy: 0.7647\n",
      "Epoch 12/30\n",
      "344/344 [==============================] - 2s 5ms/step - loss: 0.3915 - accuracy: 0.8110 - val_loss: 0.4944 - val_accuracy: 0.7647\n",
      "Epoch 13/30\n",
      "344/344 [==============================] - 2s 5ms/step - loss: 0.3844 - accuracy: 0.7965 - val_loss: 0.5031 - val_accuracy: 0.7588\n",
      "Epoch 14/30\n",
      "344/344 [==============================] - 2s 4ms/step - loss: 0.3835 - accuracy: 0.8227 - val_loss: 0.4940 - val_accuracy: 0.7647\n",
      "Epoch 15/30\n",
      "344/344 [==============================] - 1s 4ms/step - loss: 0.3778 - accuracy: 0.8169 - val_loss: 0.5072 - val_accuracy: 0.7529\n",
      "Epoch 16/30\n",
      "344/344 [==============================] - 2s 4ms/step - loss: 0.3778 - accuracy: 0.8140 - val_loss: 0.5071 - val_accuracy: 0.7647\n",
      "Epoch 17/30\n",
      "344/344 [==============================] - 1s 4ms/step - loss: 0.3741 - accuracy: 0.8227 - val_loss: 0.5036 - val_accuracy: 0.7706\n",
      "Epoch 18/30\n",
      "344/344 [==============================] - 2s 4ms/step - loss: 0.3675 - accuracy: 0.8198 - val_loss: 0.5184 - val_accuracy: 0.7647\n",
      "Epoch 19/30\n",
      "344/344 [==============================] - 2s 4ms/step - loss: 0.3666 - accuracy: 0.8314 - val_loss: 0.5136 - val_accuracy: 0.7588\n",
      "Epoch 20/30\n",
      "344/344 [==============================] - 2s 4ms/step - loss: 0.3628 - accuracy: 0.8256 - val_loss: 0.5225 - val_accuracy: 0.7529\n",
      "Epoch 21/30\n",
      "344/344 [==============================] - 2s 5ms/step - loss: 0.3579 - accuracy: 0.8372 - val_loss: 0.5301 - val_accuracy: 0.7471\n",
      "Epoch 22/30\n",
      "344/344 [==============================] - 2s 5ms/step - loss: 0.3586 - accuracy: 0.8314 - val_loss: 0.5147 - val_accuracy: 0.7588\n",
      "Epoch 23/30\n",
      "344/344 [==============================] - 2s 5ms/step - loss: 0.3513 - accuracy: 0.8576 - val_loss: 0.5209 - val_accuracy: 0.7588\n",
      "Epoch 24/30\n",
      "344/344 [==============================] - 2s 5ms/step - loss: 0.3523 - accuracy: 0.8343 - val_loss: 0.5269 - val_accuracy: 0.7647\n",
      "Epoch 25/30\n",
      "344/344 [==============================] - 2s 5ms/step - loss: 0.3457 - accuracy: 0.8343 - val_loss: 0.5416 - val_accuracy: 0.7706\n",
      "Epoch 26/30\n",
      "344/344 [==============================] - 2s 5ms/step - loss: 0.3437 - accuracy: 0.8459 - val_loss: 0.5286 - val_accuracy: 0.7765\n",
      "Epoch 27/30\n",
      "344/344 [==============================] - 2s 5ms/step - loss: 0.3390 - accuracy: 0.8256 - val_loss: 0.5466 - val_accuracy: 0.7412\n",
      "Epoch 28/30\n",
      "344/344 [==============================] - 2s 5ms/step - loss: 0.3379 - accuracy: 0.8372 - val_loss: 0.5630 - val_accuracy: 0.7471\n",
      "Epoch 29/30\n",
      "344/344 [==============================] - 2s 4ms/step - loss: 0.3343 - accuracy: 0.8430 - val_loss: 0.5445 - val_accuracy: 0.7765\n",
      "Epoch 30/30\n",
      "344/344 [==============================] - 2s 5ms/step - loss: 0.3325 - accuracy: 0.8517 - val_loss: 0.5691 - val_accuracy: 0.7412\n",
      "dict_keys(['loss', 'accuracy', 'val_loss', 'val_accuracy'])\n"
     ]
    }
   ],
   "source": [
    "model.compile(loss='binary_crossentropy',optimizer='adam',metrics=['accuracy'])\n",
    "H=model.fit(X_train, y_train,validation_split=0.33,epochs=30, batch_size=1, verbose=1)\n",
    "print(H.history.keys())"
   ]
  },
  {
   "cell_type": "code",
   "execution_count": 14,
   "id": "5ed9a5ed",
   "metadata": {},
   "outputs": [
    {
     "name": "stdout",
     "output_type": "stream",
     "text": [
      "You must install pydot (`pip install pydot`) and install graphviz (see instructions at https://graphviz.gitlab.io/download/) for plot_model/model_to_dot to work.\n"
     ]
    }
   ],
   "source": [
    "from keras.utils import plot_model\n",
    "plot_model(model, to_file='/tmp/model.png', show_shapes=True,)"
   ]
  },
  {
   "cell_type": "markdown",
   "id": "2b505218",
   "metadata": {},
   "source": [
    "## This prints the score, or accuracy."
   ]
  },
  {
   "cell_type": "code",
   "execution_count": 62,
   "id": "008e36e9",
   "metadata": {},
   "outputs": [
    {
     "name": "stdout",
     "output_type": "stream",
     "text": [
      "17/17 [==============================] - 0s 15ms/step - loss: 0.3971 - accuracy: 0.8288\n",
      "Training Accuracy: 82.88%\n",
      "\n",
      "8/8 [==============================] - 0s 6ms/step - loss: 0.6438 - accuracy: 0.7362\n",
      "Testing Accuracy: 73.62%\n",
      "\n"
     ]
    }
   ],
   "source": [
    "scores = model.evaluate(X_train,y_train)\n",
    "print(\"Training Accuracy: %.2f%%\\n\" % (scores[1]*100))\n",
    "scores = model.evaluate(X_test,y_test)\n",
    "print(\"Testing Accuracy: %.2f%%\\n\" % (scores[1]*100))"
   ]
  },
  {
   "cell_type": "markdown",
   "id": "58ae4833",
   "metadata": {},
   "source": [
    "##### So, our predictive model is 85% accurate while training and 71,26% while Testing"
   ]
  },
  {
   "cell_type": "markdown",
   "id": "6355d997",
   "metadata": {},
   "source": [
    "## Show The confusion Matrix"
   ]
  },
  {
   "cell_type": "code",
   "execution_count": 16,
   "id": "a182a740",
   "metadata": {},
   "outputs": [],
   "source": [
    "from sklearn.metrics import confusion_matrix, ConfusionMatrixDisplay"
   ]
  },
  {
   "cell_type": "code",
   "execution_count": 63,
   "id": "bb267511",
   "metadata": {},
   "outputs": [
    {
     "name": "stdout",
     "output_type": "stream",
     "text": [
      "8/8 [==============================] - 0s 10ms/step\n"
     ]
    }
   ],
   "source": [
    "y_pred = model.predict(X_test)\n",
    "y_pred = ( y_pred > .5 ).astype(int)"
   ]
  },
  {
   "cell_type": "code",
   "execution_count": 64,
   "id": "8b20491e",
   "metadata": {},
   "outputs": [
    {
     "data": {
      "text/plain": [
       "Text(50.72222222222221, 0.5, 'Actual')"
      ]
     },
     "execution_count": 64,
     "metadata": {},
     "output_type": "execute_result"
    },
    {
     "data": {
      "image/png": "[encoded data removed]",
      "text/plain": [
       "<Figure size 640x480 with 2 Axes>"
      ]
     },
     "metadata": {},
     "output_type": "display_data"
    }
   ],
   "source": [
    "cma = confusion_matrix(y_test,y_pred)\n",
    "ax = sns.heatmap(cma, annot=True,fmt=\".1f\", xticklabels=[\"No Diabetes\",'Diabetes'], yticklabels=['No Diabetes','Diabetes'],\n",
    "                cbar=True,cmap='crest')\n",
    "ax.set_xlabel('Prediction')\n",
    "ax.set_ylabel('Actual')\n"
   ]
  },
  {
   "cell_type": "markdown",
   "id": "a448dd59",
   "metadata": {},
   "source": [
    "- Total in dataframe(Diabetes)=86\n",
    "    - ***wrong prediction=33***\n",
    "- Total in dataframe(No Diabetes)=168\n",
    "    - ***wrong prediction=40***\n",
    "    \n",
    " A carrefull approach can permit us to say the number of (1) outcomes are thery low so the model can't predict accuratly this category of persons "
   ]
  },
  {
   "cell_type": "code",
   "execution_count": null,
   "id": "d4a16829",
   "metadata": {},
   "outputs": [],
   "source": [
    "print(y_test.shape)"
   ]
  },
  {
   "cell_type": "code",
   "execution_count": null,
   "id": "83df6f03",
   "metadata": {},
   "outputs": [],
   "source": [
    "print(y_pred.shape)\n"
   ]
  },
  {
   "cell_type": "markdown",
   "id": "cf123a55",
   "metadata": {},
   "source": [
    "## Compare Tested outcoume(Real value from the databaframe ) and Predicted outcome(value found by neural net model)"
   ]
  },
  {
   "cell_type": "code",
   "execution_count": 48,
   "id": "8b3ba429",
   "metadata": {},
   "outputs": [
    {
     "name": "stdout",
     "output_type": "stream",
     "text": [
      "[[0 1]\n",
      " [0 0]\n",
      " [1 1]\n",
      " [0 1]\n",
      " [1 0]\n",
      " [0 0]\n",
      " [0 0]\n",
      " [1 1]\n",
      " [1 0]\n",
      " [1 1]]\n"
     ]
    }
   ],
   "source": [
    "y_test = y_test.reshape(len(y_test), 1)\n",
    "y_pred = y_pred.reshape(len(y_pred), 1)\n",
    "print(np.concatenate((y_test[100:110], y_pred[100:110]), axis=1))"
   ]
  },
  {
   "cell_type": "markdown",
   "id": "5d7af600",
   "metadata": {},
   "source": [
    "##### Globaly we can see for 10 value the neural net  makes 3 mistakes on the outcome.That mean for 10 diabetes predictions about 3 will be wrong."
   ]
  },
  {
   "cell_type": "markdown",
   "id": "2cac3584",
   "metadata": {},
   "source": [
    "## Show a global classification report"
   ]
  },
  {
   "cell_type": "code",
   "execution_count": 66,
   "id": "28791655",
   "metadata": {},
   "outputs": [],
   "source": [
    "from sklearn.metrics import classification_report"
   ]
  },
  {
   "cell_type": "code",
   "execution_count": 67,
   "id": "ee783ded",
   "metadata": {},
   "outputs": [
    {
     "name": "stdout",
     "output_type": "stream",
     "text": [
      "              precision    recall  f1-score   support\n",
      "\n",
      "           0       0.81      0.79      0.80       168\n",
      "           1       0.61      0.63      0.62        86\n",
      "\n",
      "    accuracy                           0.74       254\n",
      "   macro avg       0.71      0.71      0.71       254\n",
      "weighted avg       0.74      0.74      0.74       254\n",
      "\n"
     ]
    }
   ],
   "source": [
    "print(classification_report(y_test, y_pred))\n"
   ]
  },
  {
   "cell_type": "markdown",
   "id": "cad7cebd",
   "metadata": {},
   "source": [
    "##### Here you can see the precision is 63 for Diabetic(1) and 80for non Diabetics(0) determiation"
   ]
  },
  {
   "cell_type": "markdown",
   "id": "d8282a14",
   "metadata": {},
   "source": [
    "## Visualize Model Training History by creating plots"
   ]
  },
  {
   "cell_type": "code",
   "execution_count": 65,
   "id": "e0dffd77",
   "metadata": {},
   "outputs": [
    {
     "name": "stdout",
     "output_type": "stream",
     "text": [
      "dict_keys(['loss', 'accuracy', 'val_loss', 'val_accuracy'])\n"
     ]
    },
    {
     "data": {
      "image/png": "[encoded data removed]",
      "text/plain": [
       "<Figure size 640x480 with 1 Axes>"
      ]
     },
     "metadata": {},
     "output_type": "display_data"
    }
   ],
   "source": [
    "from tensorflow.keras.layers import Dense\n",
    "print(H.history.keys())\n",
    "# plot the training loss and accuracy for each epoch\n",
    "N = np.arange(0, 30)\n",
    "plt.style.use(\"ggplot\")\n",
    "plt.plot(N, H.history['loss'], label=\"train_loss\")\n",
    "plt.plot(N, H.history[\"val_loss\"], label=\"test_loss\")\n",
    "plt.plot(N, H.history[\"accuracy\"], label=\"train_acc\")\n",
    "plt.plot(N, H.history[\"val_accuracy\"], label=\"test_acc\")\n",
    "plt.title(\"Training Loss and Accuracy (simple_multiclass_classifcation)\")\n",
    "plt.xlabel(\"Epoch=30\")\n",
    "plt.ylabel(\"Loss/Accuracy\")\n",
    "plt.legend()\n",
    "plt.savefig(\"training_performance.png\")"
   ]
  },
  {
   "cell_type": "markdown",
   "id": "96f8e7be",
   "metadata": {},
   "source": [
    "##### It helps us to access the history that at what point of the training(Epoch) the lossand  accuracy was decreasing or increasing. This will help us to analyse the perfermance of the model.I is saved it  an image “training_performance.png”."
   ]
  },
  {
   "cell_type": "code",
   "execution_count": null,
   "id": "500e6782",
   "metadata": {},
   "outputs": [],
   "source": []
  },
  {
   "cell_type": "code",
   "execution_count": null,
   "id": "c040fdf8",
   "metadata": {},
   "outputs": [],
   "source": []
  }
 ],
 "metadata": {
  "kernelspec": {
   "display_name": "Python (deeplearningvenv)",
   "language": "python",
   "name": "deeplearningvenv"
  },
  "language_info": {
   "codemirror_mode": {
    "name": "ipython",
    "version": 3
   },
   "file_extension": ".py",
   "mimetype": "text/x-python",
   "name": "python",
   "nbconvert_exporter": "python",
   "pygments_lexer": "ipython3",
   "version": "3.9.13"
  }
 },
 "nbformat": 4,
 "nbformat_minor": 5
}
